{
 "cells": [
  {
   "cell_type": "code",
   "execution_count": 1,
   "metadata": {},
   "outputs": [
    {
     "data": {
      "text/plain": [
       "True"
      ]
     },
     "execution_count": 1,
     "metadata": {},
     "output_type": "execute_result"
    }
   ],
   "source": [
    "from dotenv import load_dotenv, find_dotenv\n",
    "load_dotenv(find_dotenv())"
   ]
  },
  {
   "cell_type": "code",
   "execution_count": 2,
   "metadata": {},
   "outputs": [],
   "source": [
    "import os\n",
    "os.environ['LANGCHAIN_TRACING_V2'] = 'true'\n",
    "os.environ['LANGCHAIN_ENDPOINT'] = 'https://api.smith.langchain.com'\n",
    "os.environ['LANGCHAIN_PROJECT'] = 'advanced-rag'\n",
    "os.environ['LANGCHAIN_API_KEY'] = os.getenv(\"LANGCHAIN_API_KEY\")\n",
    "os.environ['GROQ_API_KEY'] = os.getenv(\"GROQ_API_KEY\")"
   ]
  },
  {
   "cell_type": "code",
   "execution_count": null,
   "metadata": {},
   "outputs": [
    {
     "name": "stdout",
     "output_type": "stream",
     "text": [
      "Số đoạn sau khi chia: 4\n",
      "page_content='Mục từ \"Nguyễn Ái Quốc\" dẫn đến bài này. Xin đọc về bút hiệu Nguyễn Ái Quốc tại Nguyễn Ái Quốc (bút hiệu). Đối với các định nghĩa khác, xem Hồ Chí Minh (định hướng). Hồ Chí Minh Hồ Chí Minh vào năm 1946 Chủ tịch Đảng Lao động Việt Nam Nhiệm kỳ 19 tháng 2 năm 1951 – 2 tháng 9 năm 1969 Tổng Bí thư Trường Chinh Lê Duẩn Tiền nhiệm Mới lập Kế nhiệm Bãi bỏ Tổng Bí thư Ban Chấp hành Trung ương Đảng Lao động Việt Nam Nhiệm kỳ 1 tháng 11 năm 1956 – 10 tháng 9 năm 1960 Tiền nhiệm Trường Chinh Kế nhiệm Lê Duẩn Chủ tịch nước Việt Nam Dân chủ Cộng hòa Nhiệm kỳ 2 tháng 9 năm 1945 – 2 tháng 9 năm 1969 Tiền nhiệm Mới lập Kế nhiệm Tôn Đức Thắng Thủ tướng Việt Nam Dân chủ Cộng hòa Nhiệm kỳ 2 tháng 9 năm 1945 – 20 tháng 9 năm 1955 Tiền nhiệm Mới lập Kế nhiệm Phạm Văn Đồng Bộ trưởng Bộ Ngoại giao Nhiệm kỳ 28 tháng 8 năm 1945 – 2 tháng 3 năm 1946 Tiền nhiệm Mới lập Kế nhiệm Nguyễn Tường Tam Nhiệm kỳ 3 tháng 11 năm 1946 – tháng 3 năm 1947 Tiền nhiệm Nguyễn Tường Tam Kế nhiệm Hoàng Minh Giám Đại biểu Quốc hội Việt Nam khóa I, II, III Nhiệm kỳ 2 tháng 3 năm 1946 – 2 tháng 9 năm 1969 Khu vực bầu cử Hà Nội Thông tin cá nhân Sinh Nguyễn Sinh Cung 19 tháng 5 năm 1890 Kim Liên, Nam Đàn, Nghệ An, Trung Kỳ, Liên bang Đông Dương Mất 2 tháng 9 năm 1969 (79 tuổi) Hà Nội, Việt Nam Dân chủ Cộng hòa Nơi an nghỉ Lăng Chủ tịch Hồ Chí Minh Đảng chính trị Đảng Xã hội Pháp (1919–1921) Đảng Cộng sản Pháp (1921–1925) Đảng Lao động Việt Nam (1925–1969) Phối ngẫu Tăng Tuyết Minh (cưới 1926) (tranh cãi) Quan hệ Nguyễn Thị Thanh (chị gái) Nguyễn Sinh Khiêm (anh trai) Nguyễn Sinh Xin (em trai) Alma mater Trường Đại học Lao động Cộng sản Phương Đông Chữ ký Giọng nói của Hồ Chí Minh Duration: 6 minutes and 56 seconds.6:56 Tuyên ngôn độc lập Ghi âm ngày 2 tháng 9 năm 1945 Ủy viên trung ương Hồ Chí Minh (chữ Nho: 胡志明; 19 tháng 5 năm 1890 – 2 tháng 9 năm 1969), tên khai sinh là Nguyễn Sinh Cung (chữ Nho: 阮生恭), còn được biết với tên gọi Bác Hồ, là một nhà cách mạng và chính khách người Việt Nam. Ông là người sáng lập Đảng Cộng sản Việt Nam, từng là Chủ tịch nước Việt Nam Dân chủ Cộng hòa từ 1945–1969, Thủ tướng Việt Nam Dân chủ Cộng hòa trong những năm 1945–1955, Tổng Bí thư Ban Chấp hành Trung ương Đảng Lao động Việt Nam từ 1956–1960, Chủ tịch Ban Chấp hành Trung ương Đảng Lao động Việt Nam từ năm 1951 cho đến khi qua đời. Trong quãng thời gian sinh sống và hoạt động trước khi lên nắm quyền, Hồ Chí Minh đã đi qua nhiều quốc gia và châu lục, ông được cho là đã sử dụng 50[1] đến 200 bí danh khác nhau.[2] Về mặt tư tưởng chính trị, Hồ Chí Minh là một người theo chủ nghĩa Marx–Lenin. Ông là nhà lãnh đạo phong trào độc lập Việt Minh tiến hành Cách mạng Tháng Tám năm 1945. Ông cũng là người đã soạn thảo, đọc bản Tuyên ngôn độc lập thành lập nước Việt Nam Dân chủ Cộng hòa, và trở thành Chủ tịch nước sau cuộc tổng tuyển cử năm 1946. Trong giai đoạn diễn ra chiến tranh Đông Dương và chiến tranh Việt Nam, Hồ Chí Minh là nhân vật chủ chốt trong hàng ngũ lãnh đạo của Việt Nam Dân chủ Cộng hòa và Mặt trận Dân tộc Giải phóng miền Nam Việt Nam. Hồ Chí Minh giảm dần hoạt động chính trị vào năm 1965 vì lý do sức khỏe rồi qua đời vào năm 1969. Năm 1975, Việt Nam Dân chủ Cộng hòa chiến thắng, hai miền Việt Nam được thống nhất, dẫn đến sự ra đời của nhà nước Cộng hòa Xã hội chủ nghĩa Việt Nam vào năm 1976. Thành phố Sài Gòn – Gia Định được đổi tên thành Thành phố Hồ Chí Minh để tôn vinh ông cũng như sự kiện này. Ngoài hoạt động chính trị, Hồ Chí Minh cũng là nhà văn, nhà thơ và nhà báo với nhiều tác phẩm viết bằng tiếng Việt, tiếng Hán và tiếng Pháp. Cuộc đời và sự nghiệp Xuất thân và quê quán Bài chi tiết: Gia đình Hồ Chí Minh Theo gia phả của dòng họ Nguyễn ở làng Sen, xã Kim Liên, huyện Nam Đàn, tỉnh Nghệ An: \"Hoàng sơ tổ khảo là Thái bảo Nguyễn Bá Phụ, tổ đời thứ 2 là Nguyễn Bá Bạc, tổ đời thứ 3 là Nguyễn Bá Ban, tổ đời thứ 4 là Nguyễn Văn Dân,... tổ đời thứ 5, Nguyễn Sinh Vật là Giám sinh đời Lê Thánh Đức (tức Lê Thần Tông) năm thứ 3..., tổ đời thứ 6 là Nguyễn Sinh Tài đỗ Hiếu sinh khi 17 tuổi, năm 34 tuổi đỗ Tam trường khoa thi Hội..., tổ đời thứ 10 là Nguyễn Sinh Nhậm.\"[3] Theo nhiều tài liệu chính thống cũng như tiểu sử tại Việt Nam, tên lúc nhỏ của Hồ Chí Minh là Nguyễn Sinh Cung[4][5] (giọng địa phương phát âm là Côông). Tuy nhiên, một số tài liệu ghi nhận tên lúc nhỏ của ông là Nguyễn Sinh Côn.[6][7][8][9][10] Điều này cũng được chính ông xác nhận bằng chính bút tích của mình trong một bài viết năm 1954.[11] Quê nội ông là làng Kim Liên (tên Nôm là làng Sen). Nguyễn Sinh Cung sinh năm 1890 tại quê ngoại là làng Hoàng Trù (tên Nôm là làng Chùa), nằm cách làng Sen khoảng 2 km) và sống ở đây cho đến năm 1895. Hai làng này vốn cùng nằm trong xã Chung Cự, thuộc tổng Lâm Thịnh, huyện Nam Đàn. Quê nội của ông, làng Kim Liên[12] là một làng quê nghèo khó. Phần lớn dân chúng không có ruộng, phải làm thuê cấy rẽ, mặc quần ít, đóng khố nhiều, bởi thế nên làng này còn có tên là làng Đai Khố.[13] Vào đời ông, phần lớn dòng họ của ông đều cơ hàn, kiếm sống bằng nghề làm thuê, và cũng có người tham gia các hoạt động chống Pháp.[14] Cha của Nguyễn Sinh Cung là một nhà Nho tên là Nguyễn Sinh Sắc (1862–1929), từng đỗ Phó bảng.[15] Mẹ ông là bà Hoàng Thị Loan (1868–1901). Nguyễn Sinh Cung có một người chị là Nguyễn Thị Thanh (sinh năm 1884), một người anh là Nguyễn Sinh Khiêm (sinh năm 1888, tự Tất Đạt, còn gọi là Cả Khiêm) và một người em trai mất sớm là Nguyễn Sinh Nhuận (1900–1901, tên khi mới lọt lòng là Xin). Tuổi trẻ Năm 1895, Nguyễn Sinh Cung cùng cha mẹ và anh trai vào Huế lần đầu tiên. Sau khi mẹ mất, (1901), ông về Nghệ An ở với bà ngoại một thời gian ngắn. Không lâu sau thì cha ông đỗ Phó bảng, ông liền theo cha về quê nội. Tại quê nội, cha ông đã làm \"lễ vào làng\" cho hai người con trai với tên mới là \"Tất Đạt\" cho Nguyễn Sinh Khiêm và \"Tất Thành\" cho Nguyễn Sinh Cung;[11][16] từ đây ông bắt đầu dùng tên Nguyễn Tất Thành. Tất Thành theo học cử nhân Hoàng Phạm Quỳnh và một số ông giáo khác.[17] Năm 1906, Nguyễn Sinh Cung theo cha vào Huế lần thứ hai và học ở Trường Tiểu học Pháp-Việt Đông Ba. Tại đây, ông trải qua các niên khóa 1906–1907 lớp nhì và 1907–1908 lớp nhất. Trong kỳ thi primaire (tương đương tốt nghiệp tiểu học) năm 1908 – ông là một trong 10 học trò giỏi nhất của trường Pháp – Việt Đông Ba được thi vượt cấp vào hệ Thành chung trường Quốc Học.[18] Theo nghiên cứu của học giả William J. Duiker, vào tháng 9 năm 1907, Nguyễn Sinh Cung vào học lớp trung học đệ nhị niên tại trường Quốc học Huế, nhưng bị đuổi học vào cuối tháng 5 năm 1908 vì tham gia phong trào chống thuế ở Trung Kỳ.[19] Cha ông bị triều đình khiển trách vì \"hành vi của hai con trai\". Hai anh em Tất Đạt và Tất Thành bị giám sát chặt chẽ. Ông quyết định vào miền Nam để tránh sự kiểm soát của triều đình.[20] Tuy nhiên, theo tài liệu hiện lưu trữ tại Trung tâm Lưu trữ Hải ngoại (Centre des archives d'Outre-mer hay CAOM) ở Pháp, Nguyễn Sinh Cung được nhận vào Quốc học Huế vào ngày 7 tháng 8 năm 1908.[6][9][21] Theo nhà nghiên cứu lịch sử Vũ Ngự Chiêu thì như vậy \"không có việc Nguyễn Sinh Cung bị trục xuất khỏi trường Quốc học vì tham gia vào cuộc biểu tình chống sưu thuế ở Huế — cuộc biểu tình chống sưu dịch xảy ra ngày 9 tới 12 tháng 4 năm 1908; tức gần 4 tháng trước ngày trò Cung được nhận vào trường Quốc học\".[6] Đầu năm 1910, Nguyễn Tất Thành đến Phan Thiết. Ông dạy thể dục và chữ Quốc ngữ cho học sinh lớp ba và tư tại trường Dục Thanh của Hội Liên Thành.[note 1][22][23] Trong thời gian này, Nguyễn Tất Thành thường gặp gỡ một số nhà nho yêu nước đương thời, tham gia công tác bí mật, nhận công việc liên lạc và có chí đuổi thực dân Pháp, giải phóng đồng bào. Ông tuy khâm phục Đề Thám (Hoàng Hoa Thám), Phan Châu Trinh, Phan Bội Châu nhưng không hoàn toàn tán thành cách làm của một người nào cả. Theo quan điểm của ông, Phan Châu Trinh chỉ yêu cầu người Pháp thực hiện cải cách, điều đó chẳng khác nào \"xin giặc rủ lòng thương\", còn Phan Bội Châu thì hy vọng Đế quốc Nhật Bản giúp đỡ để chống Pháp, điều đó nguy hiểm chẳng khác nào \"đuổi hổ cửa trước, rước báo cửa sau\". Nguyễn Tất Thành thấy rõ là cần quyết định con đường đi của riêng mình.[24] Khoảng trước tháng 2 năm 1911, ông nghỉ dạy và vào Sài Gòn cũng với sự giúp đỡ của Hội Liên Thành. Tại đây, Nguyễn Tất Thành theo học trường Bá Nghệ là trường đào tạo công nhân hàng hải và công nhân chuyên nghiệp cho xưởng Ba Son (bây giờ là trường Cao đẳng Kỹ thuật Cao Thắng), vừa đi bán báo ở khu vực thương cảng để kiếm sống và đồng thời tìm hiểu đời sống công nhân.[25][26][27] Ở đây, ông học được 3 tháng. Sau đó ông quyết định sẽ tìm một công việc trên một con tàu viễn dương để được ra nước ngoài học hỏi tinh hoa của phương Tây.[28][29] “ Sài Gòn mới mở một trường dạy nghề ba năm chuyên đào tạo công nhân hàng hải và công nhân cơ khí cho xưởng Ba Son. Trường chật hẹp, trên đầu các thợ học việc chằng chịt những dây cua-roa. Anh Nguyễn Tất Thành xin vào học ở trường này. Anh muốn trở thành một công nhân đứng máy. Người thanh niên ấy mang đến Sài Gòn bầu nhiệt huyết và cái mới trong cách nghĩ và cách sống... Tiếng gọi của lý tưởng không cho anh Thành học hết ba năm ở trường dạy nghề. Mới học ba tháng, anh mới học 3 tháng,....[30] ” “ Nhưng sang Pháp đâu phải chuyện cứ muốn là được. Trước tiên phải vào Sài Gòn đã. Anh vào Sài Gòn, xin vào Trường Bá Nghệ cũng gọi là Trường Máy ở giữa chợ Mới và chợ Cũ, gần chùa Chà. Trường này đào tạo nhân viên hàng hải và công nhân chuyên nghiệp cho xưởng Ba Son. Học ở đây vừa khỏi bị nghi ngờ, vừa có cơm ăn, lại vừa biết ít nhiều về máy móc... Lệ thường là phải học ba năm mới thành nghề. Nhưng Anh Thành không định học cho đến lúc thành nghề. Chừng ba tháng sau, tìm được một chân phụ bếp trên chiếc tàu đô đốc Latouche Tréville của hãng Vận tải hợp nhất; thế là anh lẳng lặng ra đi.[31] ” Hoạt động ở nước ngoài Bài chi tiết: Hoạt động của Hồ Chí Minh trong giai đoạn 1911-1941 Thời kỳ 1911-1919 Mô hình chiếc tàu buôn Đô đốc Latouche-Tréville được trưng bày tại bến Nhà Rồng Mô hình chiếc tàu buôn Đô đốc Latouche-Tréville được trưng bày tại bến Nhà Rồng Thư Nguyễn Tất Thành xin được nhập học vào Trường École Coloniale Thư Nguyễn Tất Thành xin được nhập học vào Trường École Coloniale Nguyễn Ái Quốc, đại biểu Đông Dương, chụp tại Đại hội Đảng Cộng sản Pháp họp tại Marseille năm 1921 Nguyễn Ái Quốc, đại biểu Đông Dương, chụp tại Đại hội Đảng Cộng sản Pháp họp tại Marseille năm 1921 Ngày 5 tháng 6 năm 1911, từ Bến Nhà Rồng, Nguyễn Tất Thành lấy tên Văn Ba lên đường sang Pháp với nghề phụ bếp trên chiếc tàu buôn Đô đốc Latouche-Tréville, với mong muốn học hỏi những tinh hoa và tiến bộ từ các nước phương Tây.[32] Ngày 6 tháng 7 năm 1911, sau hơn 1 tháng đi biển, tàu cập cảng Marseille, Pháp. Tại Marseilles, ông đã viết thư đến Tổng thống Pháp, xin được nhập học vào Trường Thuộc địa (École Coloniale), trường chuyên đào tạo các nhân viên hành chánh cho chính quyền thực dân, với hy vọng \"giúp ích cho Pháp\". Thư yêu cầu của ông bị từ chối và được chuyển đến Khâm sứ Trung Kỳ ở Huế.[33] Ở Pháp một thời gian, sau đó Nguyễn Tất Thành qua Hoa Kỳ. Sau khi ở Hoa Kỳ một năm (cuối 1912-cuối 1913), ông đến nước Anh làm nghề cào tuyết, đốt lò rồi phụ bếp cho khách sạn, học tiếng Anh, và ở Luân Đôn cho đến cuối năm 1916.[34] Một số tài liệu trong kho lưu trữ của Pháp và Nga cho biết trong thời gian sống tại Hoa Kỳ, Nguyễn Tất Thành đã đến nghe Marcus Garvey diễn thuyết ở khu Harlem và tham khảo ý kiến của các nhà hoạt động vì nền độc lập của Triều Tiên. Cuối năm 1917, ông trở lại nước Pháp, sống và hoạt động ở đây cho đến năm 1923.[35][36] Thời kỳ ở Pháp Tấm biển đồng gắn tại nhà số 9 ngõ Compoint, quận 17 Paris: \"Tại đây, từ năm 1921-1923, Nguyễn Ái Quốc đã sống và chiến đấu vì quyền độc lập và tự do cho nhân dân Việt Nam và các dân tộc bị áp bức\". Tấm biển đồng gắn tại nhà số 9 ngõ Compoint, quận 17 Paris: \"Tại đây, từ năm 1921-1923, Nguyễn Ái Quốc đã sống và chiến đấu vì quyền độc lập và tự do cho nhân dân Việt Nam và các dân tộc bị áp bức\". Tranh biếm họa của Nguyễn Ái Quốc cho tờ Le Paria, đời sống người dân dưới ách thống trị của thực dân Pháp Tranh biếm họa của Nguyễn Ái Quốc cho tờ Le Paria, đời sống người dân dưới ách thống trị của thực dân Pháp Tháng 2 năm 1919, Nguyễn Tất Thành gia nhập Đảng Xã hội Pháp.[37][38] Ngày 18 tháng 6 năm 1919, thay mặt Hội những người An Nam yêu nước, Nguyễn Tất Thành đã mang tới Hội nghị Hòa bình Versailles bản Yêu sách của nhân dân An Nam gồm 8 điểm để kêu gọi lãnh đạo các nước Đồng Minh áp dụng các lý tưởng của Tổng thống Mỹ Wilson cho các lãnh thổ thuộc địa của Pháp ở Đông Nam Á, trao tận tay Tổng thống Pháp và các đoàn đại biểu đến dự hội nghị.[39] Bản yêu sách không yêu cầu độc lập cho Việt Nam, nhưng bao gồm quyền tự do và bình đẳng.[40] Bản yêu sách này do một nhóm các nhà ái quốc Việt Nam sống ở Pháp, trong đó có Phan Châu Trinh, Phan Văn Trường và Nguyễn Tất Thành, cùng viết, và được ký tên chung là Nguyễn Ái Quốc.[41] Từ đây, Nguyễn Tất Thành công khai gọi tên mình là Nguyễn Ái Quốc[42] và sử dụng tên này trong suốt 30 năm sau đó.[43] Tuy nhiên, Hội nghị Versailles đã không đề cập gì đến việc giải quyết quyền lợi cho người dân các nước thuộc địa. Các nước thắng trận (Anh, Pháp, Mỹ) chỉ lo phân chia thuộc địa và các món lợi kinh tế giành được từ các nước bại trận. Trong khi đó, tại nước Nga Xô viết sau Cách mạng Tháng Mười năm 1917, Lenin đã ban hành sắc lệnh quy định về sự bình đẳng giữa các dân tộc, trao trả độc lập cho các thuộc địa của Đế quốc Nga cũ. Điều này đã đẩy niềm tin của Nguyễn Tất Thành sang chủ nghĩa cộng sản.[40] Năm 1920, Nguyễn Ái Quốc đọc Luận cương về vấn đề dân tộc và thuộc địa của Lenin, từ đó ông hoàn toàn tin tưởng vào chủ nghĩa cộng sản.[44] Ông tham dự Đại hội lần thứ 18 của Đảng Xã hội Pháp tại Tours (từ 25 đến 30 tháng 12 năm 1920) với tư cách là đại biểu Đông Dương của Đảng Xã hội Pháp, ông trở thành một trong những sáng lập viên của Đảng Cộng sản Pháp và tách khỏi đảng Xã hội.[45] Ông nói với các đại biểu của Đảng Xã hội Pháp: \"Tôi không hiểu bất cứ điều gì về chiến lược, thủ thuật hành động và tất cả những từ ngữ đao to búa lớn mà các ông dùng, nhưng tôi hiểu một điều rất đơn giản: Quốc tế thứ 3 quan tâm rất nhiều tới vấn đề thuộc địa. Các đại biểu của Quốc tế thứ 3 hứa sẽ giúp các dân tộc thuộc địa đang bị áp bức giành lại tự do và độc lập. Các thành viên của Quốc tế thứ 2 không nói một từ về số phận của các vùng thuộc địa\".[40] Năm 1921, ông cùng một số nhà yêu nước của các thuộc địa Pháp lập ra Hội Liên hiệp Thuộc địa (Union intercoloniale – Association des indigènes de toutes les colonies) nhằm tập hợp các dân tộc bị áp bức đứng lên chống chủ nghĩa đế quốc. Năm 1922, Nguyễn Ái Quốc cùng một số nhà cách mạng thuộc địa lập ra báo Le Paria (Người cùng khổ), làm chủ nhiệm kiêm chủ bút, nhằm tố cáo chính sách đàn áp, bóc lột của chủ nghĩa đế quốc nói chung và thực dân Pháp nói riêng. Tác phẩm \"Bản án chế độ thực dân Pháp\" bằng tiếng Pháp (Procès de la colonisation française) do ông viết được xuất bản năm 1925, đã tố cáo chính sách thực dân tàn bạo của Pháp và đề cập đến phong trào đấu tranh của các dân tộc thuộc địa. Thời kỳ ở Liên Xô lần thứ nhất Một phần trong loạt bài về Chủ nghĩa cộng sản Các khái niệm Các khía cạnh Các trường phái Các tổ chức quốc tế Nhân vật Theo vùng Chủ đề liên quan Cổng thông tin Chủ nghĩa cộng sản xts Một phần của loạt bài về Chủ nghĩa Marx-Lenin Marx, Engels và Lenin Khái niệm Biến thể Nhân vật Công trình Lịch sử Chủ đề liên quan Cổng thông tin Chủ nghĩa cộng sản xts Một phần của loạt bài về Chủ nghĩa Marx Karl Marx và Friedrich Engels Công trình lý luận Triết học Phê phán kinh tế chính trị Xã hội học Lịch sử Bình diện Biến thể thông thường Biến thể khác Nhân vật Tạp chí Chủ đề liên quan Cổng thông tin Chủ nghĩa cộng sản Cổng thông tin Triết học xts Nguyễn Ái Quốc đến Liên Xô lần đầu tiên vào năm 1922 tham gia Đại hội lần thứ tư của Quốc tế Cộng sản, ở đó ông gặp Lenin và trở thành thành viên của Ban Đông Nam Á của Quốc tế Cộng sản.[40] Tháng 6 năm 1923, ông đến Moskva học tập tại trường Đại học Lao động Cộng sản Phương Đông, được đào tạo chính quy về Chủ nghĩa Marx, tuyên truyền và khởi nghĩa vũ trang.[40] Tại đây Nguyễn Ái Quốc đã dự Hội nghị lần thứ nhất Quốc tế Nông dân (họp từ ngày 12 đến ngày 15 tháng 10 năm 1923), ông được bầu vào Ban Chấp hành và Đoàn Chủ tịch Quốc tế Nông dân. Tại Đại hội lần thứ 5 Đệ Tam Quốc tế (họp từ ngày 17 tháng 6 đến ngày 8 tháng 7 năm 1924), ông được cử làm Ủy viên Ban Phương Đông, phụ trách Cục Phương Nam. Năm 1924, Nguyễn Ái Quốc viết và nộp cho tổ chức Đệ Tam Quốc tế một bản Báo cáo về tình hình Bắc Kỳ, Trung Kỳ và Nam Kỳ. Nhận thấy phong trào đấu tranh giai cấp tại Việt Nam có sự khác biệt với phong trào đấu tranh giai cấp bên Tây phương đương thời, ông có nhận xét về các tầng lớp địa chủ, tăng lữ,... của Việt Nam như sau: “ Những địa chủ ở đây chỉ là những tên lùn tịt bên cạnh những người trùng tên với họ ở châu Âu và châu Mỹ (...). Không có vốn liếng gì lớn..., đời sống của địa chủ cũng chẳng có gì là xa hoa\", \"An Nam chưa bao giờ có tăng lữ...\" ” — Nguyễn Ái Quốc[46] Ông cũng cho rằng: “ Chủ nghĩa dân tộc là động lực lớn của đất nước. Chính nó đã gây nên cuộc nổi dậy chống thuế năm 1908, nó dạy cho những người cu li biết phản đối, nó làm cho những người \"nhà quê\" phản đối ngầm trước thuế tạp dịch và thuế muối. Cũng chủ nghĩa dân tộc đã luôn luôn thúc đẩy các nhà buôn An Nam cạnh tranh với người Pháp và người Trung Quốc; nó đã thúc giục thanh niên bãi khóa, làm cho những nhà cách mạng trốn sang Nhật Bản và làm vua Duy Tân mưu tính khởi nghĩa năm 1917.[46] ” — Nguyễn Ái Quốc Tư tưởng này của ông không có gì mâu thuẫn với Luận cương về các vấn đề dân tộc thuộc địa của Lenin, khi phát động chủ nghĩa dân tộc là sách lược để đi đến chủ nghĩa cộng sản (đại đồng). Tuy nhiên, một số người trong Quốc tế Cộng sản không quan tâm tới quan điểm này của Nguyễn Ái Quốc, họ cho rằng đường lối của ông trái nghị quyết của Quốc tế cộng sản khi đó. Thời kỳ ở Trung Quốc (1924–1927) Sau khi học tại Liên Xô, cuối năm 1924, Nguyễn Ái Quốc rời Liên Xô tới Quảng Châu theo phái đoàn cố vấn của chính phủ Liên Xô do Mikhail Markovich Borodin làm trưởng đoàn đến giúp chính phủ Trung Hoa Dân quốc của Tưởng Giới Thạch, làm phiên dịch lấy tên là Lý Thụy. Trong thời gian ở Trung Quốc, ông có nhiệm vụ tuyên truyền phổ biến tư tưởng cách mạng ra vùng Đông Phương. Theo đó, năm 1925, ông tập hợp Việt kiều và thành lập tổ chức Việt Nam Thanh niên Cách mạng Đồng chí Hội ở Quảng Châu (Trung Quốc) để truyền bá chủ nghĩa Marx-Lenin (thường được phiên âm là Mác–Lê-nin) vào Việt Nam. Cuốn Đường Kách mệnh, mà ông là tác giả, tập hợp các bài giảng tại các lớp huấn luyện chính trị của Việt Nam Thanh niên Cách mạng Đồng chí Hội, được xuất bản năm 1927.[47] Cùng năm 1925, Nguyễn Ái Quốc tham gia thành lập Hội Liên hiệp các dân tộc bị áp bức ở Á Đông, do Liêu Trọng Khải, một cộng sự thân tín của Tôn Dật Tiên, làm Hội trưởng và ông làm Bí thư. Tổ chức này sau đó trở thành Đảng Cộng sản Nam Hải (the South Seas Communist party),[48] tiền thân của một loạt các tổ chức cộng sản sau này, bao gồm có cả Đảng Cộng sản Đông Dương. Trong thời kỳ này, Nguyễn Ái Quốc cũng gửi một loạt người Việt đi học trường quân sự của Tưởng Giới Thạch tại Quảng Châu, đồng thời tiến hành một khóa đào tạo về khởi nghĩa vũ trang. Do Tưởng Giới Thạch khủng bố các nhà cách mạng cộng sản Trung Quốc và Việt Nam, ông rời Quảng Châu đi Hồng Kông, rồi thoát sang Liên Xô theo đường sa mạc Gobi. Tháng 11 năm 1927, ông được cử đi Pháp, rồi từ đó đi dự cuộc họp Đại Hội đồng của Liên đoàn Chống đế quốc từ ngày 9 đến ngày 12 tháng 12 năm 1927 tại Brussel, Bỉ. Thời kỳ ở Thái Lan (1928–1929) Nhà lưu niệm Chủ tịch Hồ Chí Minh ở Ban Nachok, Nakhon Phanom, Thái Lan, 2010. Nhà lưu niệm Chủ tịch Hồ Chí Minh ở Ban Nachok, Nakhon Phanom, Thái Lan, 2010. Căn nhà ở Ban Nachok, Nakhon Phanom, Thái Lan, nơi Hồ Chí Minh từng ở. Căn nhà ở Ban Nachok, Nakhon Phanom, Thái Lan, nơi Hồ Chí Minh từng ở. Mùa thu 1928, Nguyễn Ái Quốc từ châu Âu đến Xiêm La (Thái Lan), cải trang là một nhà sư đầu trọc, với bí danh Thầu Chín để tuyên truyền và huấn luyện cho Việt kiều tại Xiêm, đồng thời xuất bản báo gửi về nước. Cuối năm 1929, ông rời khỏi Vương quốc Xiêm La và sang Trung Quốc.[49] Thành lập Đảng Cộng sản Việt Nam Ngày 3 tháng 2 năm 1930, tại Cửu Long (九龍, Kowloon) thuộc Hồng Kông, theo chỉ thị của Quốc tế Cộng sản, nhằm giải quyết những mâu thuẫn hiện có giữa những người cộng sản Đông Dương, ông đã thống nhất ba tổ chức cộng sản tại Đông Dương thành Đảng Cộng sản Việt Nam (sau đổi tên là \"Đảng Cộng sản Đông Dương\", rồi \"Đảng Lao động Việt Nam\" và nay là \"Đảng Cộng sản Việt Nam\"). Cũng vào năm này, khởi nghĩa Xô viết Nghệ Tĩnh do Đảng Cộng sản chỉ đạo nổ ra nhưng thất bại. Đảng Cộng sản Đông Dương bị cấm hoạt động, đồng thời Nguyễn Ái Quốc bị xử tử hình vắng mặt. Tháng 3 năm 1930, Nguyễn Ái Quốc trở lại Xiêm trong một thời gian ngắn, rồi ông quay lại Trung Quốc. Những năm 1931–1933 Bài chi tiết: Vụ án Tống Văn Sơ Năm 1931, dưới tên giả là Tống Văn Sơ (Sung Man Cho), Nguyễn Ái Quốc bị nhà cầm quyền Hồng Kông bắt giam với ý định trao cho chính quyền Pháp ở Đông Dương. Tờ L'Humanité (Nhân đạo) số ra ngày 9 tháng 8 năm 1932 đưa tin Nguyễn Ái Quốc đã chết vì bệnh lao phổi trong trạm xá nhà tù tại Hồng Kông, đồng thời tố cáo đây là âm mưu của thực dân Pháp cấu kết với Anh nhằm ám sát người lãnh đạo Đảng Cộng sản Đông Dương.[50] Sau đó, nhờ sự biện hộ và giúp đỡ tận tình của luật sư Francis Henry Loseby, Tống Văn Sơ được thả ngày 28 tháng 12 năm 1932. Ông đi Thượng Hải rồi bí mật quay trở lại Liên Xô.[51] Thời kỳ ở Liên Xô lần thứ hai Nguyễn Ái Quốc đến Moskva vào mùa xuân năm 1934. Với bí danh Lin, Nguyễn Ái Quốc học ở Trường Quốc tế Lenin (1934–1935). Sau đó dưới tên Linov, ông dự Đại hội lần thứ 7 Đệ Tam Quốc tế (từ 25 tháng 7 đến 20 tháng 8 năm 1935) với vai trò quan sát viên của Ban Thư ký Dalburo.[52] Trong thời gian này, Nguyễn Ái Quốc bị Ban Lãnh đạo Hải ngoại của Đảng Cộng sản Đông Dương viết thư gửi Quốc tế Cộng sản kết tội phải chịu trách nhiệm chính về việc hơn 100 đảng viên của Hội Việt Nam Cách mạng Thanh niên bị bắt, do việc ông biết Lâm Đức Thụ trước đây là kẻ phản bội mà vẫn tiếp tục sử dụng.[53] Ông bị buộc phải ở Liên Xô cho đến năm 1938, bị giam lỏng vì nghi ngờ lý do ông được nhà cầm quyền Hồng Kông trả tự do.[54] Quốc tế Cộng sản thành lập Ban Thẩm tra vì nghi ngờ sự trung thành chính trị của Nguyễn Ái Quốc nhưng không tìm ra chứng cứ cho thấy điều này, nên hồ sơ vụ việc đã được Ban Thẩm tra quyết định hủy bỏ.[55] Sau đó, ông tham gia lớp nghiên cứu sinh Viện Nghiên cứu các Vấn đề Dân tộc và Thuộc địa của Quốc tế Cộng sản.[56] Trong những năm 1931–1935, Nguyễn Ái Quốc bị Trần Phú và sau đó là Hà Huy Tập phê phán về đường lối cải lương \"liên minh với tư sản và địa chủ vừa và nhỏ\", không đúng đường lối đấu tranh giai cấp của Đệ Tam Quốc tế.[57][58] Trong một bức thư gửi cho tổ chức Đệ Tam Quốc tế vào tháng 3 năm 1935 với nội dung kể về phong trào cách mạng tại Đông Dương, Nguyễn Ái Quốc đã bị phê phán nặng nề. Bức thư này có ghi nhận về \"tàn dư của tư tưởng dân tộc cách mạng pha trộn với chủ nghĩa cải lương, chủ nghĩa duy tâm của đảng của các đồng chí Hội Việt Nam Cách mạng Thanh niên và của đồng chí Nguyễn Ái Quốc\". Trong thư này cũng có đoạn: \"Những tàn dư ấy rất mạnh và tạo thành một chướng ngại nghiêm trọng cho sự phát triển chủ nghĩa cộng sản. Cuộc tranh đấu không nhân nhượng chống những học thuyết cơ hội này của đồng chí Nguyễn Ái Quốc và của Đảng Thanh niên là rất cần thiết (...). Chúng tôi đề nghị đồng chí Lin viết một cuốn sách để tự phê bình những khuyết điểm đã qua\".[46] Sở dĩ có việc phê phán này là do bất đồng giữa Nguyễn Ái Quốc và một số đồng chí của ông về các lực lượng tham gia, cần tranh thủ trong hoạt động cách mạng, dẫn đến suy nghĩ cho rằng Nguyễn Ái Quốc ưu tiên giải phóng dân tộc hơn là đấu tranh giai cấp. Vào thời điểm đó, Quốc tế Cộng sản dưới sự lãnh đạo của Stalin, đặt đấu tranh giải phóng dân tộc đi cùng với đấu tranh giai cấp. Trong giai đoạn này, Trần Phú, Lê Hồng Phong, Hà Huy Tập lần lượt làm Tổng Bí thư Đảng Cộng sản Đông Dương còn Hồ Chí Minh chỉ đảm nhiệm công tác liên lạc giữa Quốc tế Cộng sản và các đảng cộng sản tại Đông Nam Á.[59] Trở lại Trung Quốc (năm 1938 đến đầu năm 1941) Năm 1938, ông trở lại Trung Quốc. Trong vai Thiếu tá Bát lộ quân tên là Hồ Quang, Nguyễn Ái Quốc đến công tác tại văn phòng Bát lộ quân Quế Lâm, sau đó đi Quý Dương, Côn Minh rồi đến Diên An, căn cứ đầu não của Đảng Cộng sản Trung Quốc và Hồng quân Trung Quốc mùa đông 1938 đến đầu năm 1939.[60] Trở về Việt Nam Đầu tháng 1 năm 1941, Hoàng Văn Thụ, Ủy viên Thường vụ Trung ương Đảng từ Việt Nam sang Tĩnh Tây (Quảng Tây, Trung Quốc) gặp Nguyễn Ái Quốc để báo cáo kết quả xây dựng và củng cố An toàn khu Cao Bằng. Hoàng Văn Thụ đề nghị ông về nước trực tiếp lãnh đạo cách mạng Việt Nam qua lối Cao Bằng. Nguyễn Ái Quốc cũng nhận định Cao Bằng sẽ mở ra triển vọng lớn cho cách mạng, và ông quyết định trở về nước sau 30 năm ở nước ngoài. Ông trở về Việt Nam vào ngày 28 tháng 1 năm 1941,[61] với hành lý là một chiếc vali nhỏ đan bằng mây tre để đựng quần áo và một chiếc máy chữ xách tay. Nhà thơ Tố Hữu đã viết về sự kiện này qua bốn câu thơ: \"Bác đã về đây, Tổ quốc ơi! Nhớ thương hòn đất ấm hơi Người. Ba mươi năm ấy, chân không nghỉ, Mà đến bây giờ mới tới nơi\".[62] Sau khi hỏi thăm dân địa phương, ngày 8 tháng 2 năm 1941, Nguyễn Ái Quốc tới ở tại hang Cốc Bó, bản Pác Bó, tỉnh Cao Bằng với bí danh Già Thu. Dòng suối lớn chảy qua đây được ông gọi là suối Lê-nin, ngọn núi đá cao được gọi là núi Các-Mác. Ông đã làm một bài thơ (nay đã được tạc vào vách núi) thể hiện chí hướng:[63] Non xa xa nước xa xa, Nào phải thênh thang mới gọi là. Đây suối Lê-nin, kia núi Mác, Hai tay gây dựng một sơn hà. Tại đây, Nguyễn Ái Quốc mở các lớp huấn luyện cán bộ,[64] cho in báo, tham gia các hoạt động thường ngày... Tài liệu huấn luyện và tuyên truyền chủ yếu là sách do ông dịch và viết về nhiều chủ đề. Tại cuối một cuốn sách như vậy ông ghi \"Việt Nam độc lập năm 1945\".[65] Ông cho lập nhiều hội đoàn nhân dân như Hội Phụ nữ Cứu quốc, Hội Phụ lão Cứu quốc, Hội Nông dân Cứu quốc... Từ ngày 10 đến ngày 19 tháng 5 năm 1941, Nguyễn Ái Quốc chủ trì Hội nghị lần thứ 8 (mở rộng) của Trung ương Đảng họp tại Pác Bó, Cao Bằng. Một trong những kết quả của hội nghị này là nghị quyết về việc thành lập Việt Nam Độc lập Đồng minh (Việt Minh).[66][67] Từ bị giam ở Trung Quốc cho tới thành lập Việt Nam Dân chủ Cộng hòa Ngày 13 tháng 8 năm 1942, ông lấy tên Hồ Chí Minh, sang Trung Quốc với danh nghĩa đại diện của cả Việt Minh và Hội Quốc tế Phản Xâm lược Việt Nam (một hội đoàn được ông lập ra trước đó) để tranh thủ sự ủng hộ của Trung Hoa Dân quốc. Đây là lần đầu tiên trong các giấy tờ cá nhân ông sử dụng tên Hồ Chí Minh, và khai nhân thân là \"Việt Nam-Hoa kiều\".[68] Hồ Chí Minh bị chính quyền địa phương của Trung Hoa Dân quốc bắt giữ ngày 29 tháng 8 khi đang đi cùng một người Trung Quốc dẫn đường và bị giam hơn một năm, trải qua khoảng 30 nhà tù. Ông viết Nhật ký trong tù trong thời gian này (từ tháng 8 năm 1942 đến tháng 9 năm 1943). Nhật ký trong tù là một tác phẩm được nhiều tác giả người Việt Nam, người phương Tây và cả người Trung Quốc, như Quách Mạt Nhược, Viên Ưng hay Hoàng Tranh đề cao.[69] Các đồng chí của ông (Phạm Văn Đồng, Võ Nguyên Giáp, Vũ Anh...) ở Việt Nam tưởng lầm là ông đã chết (sau này nguyên nhân được làm rõ là do một cán bộ Đảng Cộng sản tên Cáp đã nghe và hiểu sai ngữ nghĩa).[70] Họ thậm chí đã tổ chức đám tang và đọc điếu văn cho ông (Phạm Văn Đồng làm văn điếu) cũng như \"mở chiếc va-li mây của Bác ra tìm xem còn những gì có thể giữ lại làm kỉ niệm\" (lời của Võ Nguyên Giáp). Vài tháng sau họ mới biết được tình hình thực của ông sau khi nhận được thư do ông viết và bí mật nhờ chuyển về. Ngày 25 tháng 10 năm 1943, Hội Quốc tế Chống Xâm lược ở Đông Dương gửi 2 bức thư, một cho Đại sứ Mỹ tại Trung Quốc, bức còn lại cho Thống chế Tưởng Giới Thạch đề nghị can thiệp trả tự do cho Hồ Chí Minh, đồng thời đại diện của Đảng Cộng sản Trung Quốc ở Trùng Khánh đã tiếp xúc bí mật với các sĩ quan OSS (thuộc Cơ quan Tình báo chiến lược Hoa Kỳ) và SACO để gợi ý rằng có thể khiến Hồ Chí Minh hợp tác với phe Đồng Minh.[71] Sau khi thảo luận với Đại sứ quán Mỹ tại Trung Quốc, OSS và cơ quan ngoại giao Mỹ thương lượng với chính phủ Trung Hoa Dân quốc để giải thoát Hồ Chí Minh khỏi nhà tù và thuyết phục ông cộng tác với OSS.[72] Cùng lúc đó Trương Phát Khuê, tướng cai quản vùng Quảng Đông và Quảng Tây của Quốc Dân Đảng cũng gây áp lực để buộc ông Hồ hoạt động cho Quốc dân Đảng.[72] Hồ Chí Minh được trả tự do ngày 10 tháng 9 năm 1943, theo yêu cầu của Hoa Kỳ.[48] Có nguồn khác nói rằng tướng Trương Phát Khuê quyết định trả tự do cho Hồ Chí Minh nhằm lợi dụng ông và một số chính trị gia Việt Nam theo chủ nghĩa dân tộc ở miền Nam Trung Quốc chống phát xít Nhật.[73] Trương Phát Khuê hy vọng Hồ Chí Minh có thể thống nhất và tổ chức lại các nhóm người Việt lưu vong ở miền Nam Trung Quốc thành một khối thuần nhất thân Trung Quốc mà sự chia rẽ, chống đối về phương pháp tiến hành đấu tranh và sự tranh giành quyền lực giữa lãnh tụ của các nhóm này đã che lấp mất mục tiêu đấu tranh giành độc lập dân tộc của họ đồng thời để chấn chỉnh Việt Nam Cách mệnh Đồng minh Hội (Việt Cách) do Trung Quốc đỡ đầu.[74] Ngay sau đó, Hồ Chí Minh tham gia Ban Chấp hành Trung ương Việt Nam Cách mệnh Đồng minh Hội. Trước đó, Việt Minh đã ra tuyên bố ủng hộ tổ chức này. Ông cũng cố gắng tranh thủ sự ủng hộ từ Trương Phát Khuê, nhưng không thành. Cuối tháng 9 năm 1944, Hồ Chí Minh trở về Việt Nam. Khi này các đồng chí của ông ở Liên tỉnh ủy Cao-Bắc-Lạng như Võ Nguyên Giáp, Phạm Văn Đồng... đã quyết định tiến hành phát động chiến tranh du kích trong phạm vi liên tỉnh. Hồ Chí Minh cho rằng chưa đúng thời cơ, và đã ngăn chặn thành công quyết định này.[75] Thay vào đó, ông ra lệnh tổ chức lập lực lượng vũ trang và căn cứ địa cho chặt chẽ và hiệu quả hơn. Ông trực tiếp ra chỉ thị thành lập một đội quân mang tính chính quy là đội Việt Nam Tuyên truyền Giải phóng quân, với 34 đội viên là các tiểu đội trưởng, trung đội trưởng hoặc thành viên của các đội quân nhỏ bé và rải rác trước đó của Việt Minh. Cuối năm 1944, ông trở lại Côn Minh hoạt động cho tới đầu năm 1945. Ngày 29 tháng 3 năm 1945, Hồ Chí Minh gặp Trung tướng Mỹ Chennault tại Côn Minh (Trung Quốc). Chennault cảm ơn Việt Minh đã giúp đỡ chống Nhật và sẵn sàng viện trợ những gì có thể theo yêu cầu. Còn Hồ Chí Minh khẳng định quan điểm của Việt Minh là ủng hộ và đứng về phía Đồng Minh chống phát xít Nhật.[73] Theo Hồ Chí Minh, việc được tướng Chennault tiếp kiến được xem là một sự công nhận chính thức của Mỹ, là bằng chứng cho các đảng phái Quốc gia thấy Mỹ ủng hộ Việt Minh. Người Mỹ xem đây chỉ là một mưu mẹo của Hồ Chí Minh nhưng dù sao ông cũng đã đạt được kết quả.[76] Hồ Chí Minh (hàng đứng, thứ ba từ trái sang), Võ Nguyên Giáp (hàng đứng, thứ năm từ trái sang) và OSS năm 1945. Hồ Chí Minh nhận thấy Hoa Kỳ đang muốn sử dụng các tổ chức cách mạng người Việt vào các hoạt động quân sự chống Nhật tại Việt Nam, ông đã thiết lập mối quan hệ với các cơ quan tình báo Hoa Kỳ đồng thời chỉ thị cho'\n"
     ]
    }
   ],
   "source": [
    "from langchain.text_splitter import TokenTextSplitter, SentenceTransformersTokenTextSplitter\n",
    "from langchain_community.vectorstores import FAISS\n",
    "from langchain_community.embeddings import HuggingFaceBgeEmbeddings\n",
    "\n",
    "with open(\"HoChiMinh.txt\", \"r\", encoding=\"utf-8\") as f:\n",
    "    docs = f.read()\n",
    "##1 - 0 - 1000 , 800 - 1800\n",
    "\n",
    "# Split - Chunking\n",
    "# Khởi tạo bộ chia văn bản\n",
    "# Khởi tạo bộ chia văn bản\n",
    "text_splitter = SentenceTransformersTokenTextSplitter(\n",
    "    chunk_size=2000,  # Số token mỗi đoạn\n",
    "    chunk_overlap=50,  # Overlap\n",
    "    model_name=\"BAAI/bge-m3\"  # Model tokenizer sử dụng\n",
    ")\n",
    "\n",
    "# Chia nhỏ văn bản\n",
    "texts = text_splitter.create_documents([docs])\n",
    "\n",
    "# Kiểm tra kết quả\n",
    "print(f\"Số đoạn sau khi chia: {len(texts)}\")\n",
    "print(texts[0])"
   ]
  },
  {
   "cell_type": "code",
   "execution_count": null,
   "metadata": {},
   "outputs": [
    {
     "name": "stderr",
     "output_type": "stream",
     "text": [
      "C:\\Users\\Hokta\\AppData\\Local\\Temp\\ipykernel_6788\\251197425.py:5: LangChainDeprecationWarning: The class `HuggingFaceBgeEmbeddings` was deprecated in LangChain 0.2.2 and will be removed in 1.0. An updated version of the class exists in the :class:`~langchain-huggingface package and should be used instead. To use it run `pip install -U :class:`~langchain-huggingface` and import as `from :class:`~langchain_huggingface import HuggingFaceEmbeddings``.\n",
      "  hf_embeddings = HuggingFaceBgeEmbeddings(\n"
     ]
    }
   ],
   "source": [
    "# Embed\n",
    "model_name = \"BAAI/bge-m3\"\n",
    "model_kwargs = {\"device\": \"cuda\"}\n",
    "encode_kwargs = {\"normalize_embeddings\": True}\n",
    "hf_embeddings = HuggingFaceBgeEmbeddings(\n",
    "    model_name=model_name, model_kwargs=model_kwargs, encode_kwargs=encode_kwargs\n",
    ")\n",
    "\n",
    "vectorstore = FAISS.from_documents(documents=texts, \n",
    "                                    embedding=hf_embeddings)\n",
    "\n",
    "retriever = vectorstore.as_retriever() # Dense Retrieval - Embeddings/Context based"
   ]
  },
  {
   "cell_type": "code",
   "execution_count": null,
   "metadata": {},
   "outputs": [
    {
     "data": {
      "text/plain": [
       "[Document(id='b1f922a9-8ba8-4ecc-873b-f99213013b3c', metadata={'source': 'https://lilianweng.github.io/posts/2023-06-23-agent/'}, page_content='Retrieval model: surfaces the context to inform the agent’s behavior, according to relevance, recency and importance.'),\n",
       " Document(id='f49fd922-52bb-4970-b602-1b98c3d73b07', metadata={'source': 'https://lilianweng.github.io/posts/2023-06-23-agent/'}, page_content='Fig. 13. The generative agent architecture. (Image source: Park et al. 2023)'),\n",
       " Document(id='4742cbe0-f930-4f1f-b13f-69e2e18e9f95', metadata={'source': 'https://lilianweng.github.io/posts/2023-06-23-agent/'}, page_content='in reinforcement learning tasks, where an algorithm is encapsulated in a long history-conditioned policy. Considering that an agent interacts with the environment many times and in each episode the agent gets a little better, AD concatenates this learning history and feeds that into the model.'),\n",
       " Document(id='79fefb05-3740-4a16-b844-f52e418c4ab6', metadata={'source': 'https://lilianweng.github.io/posts/2023-06-23-agent/'}, page_content='This benchmark evaluates the agent’s tool use capabilities at three levels:')]"
      ]
     },
     "execution_count": 6,
     "metadata": {},
     "output_type": "execute_result"
    }
   ],
   "source": [
    "retriever.invoke(\"Chủ tịch Hồ Chí Minh làm chủ tịch nước nhiệm kỳ nào ?\")"
   ]
  },
  {
   "cell_type": "code",
   "execution_count": null,
   "metadata": {},
   "outputs": [],
   "source": [
    "vectorstore.save_local(\"faiss_index\")"
   ]
  },
  {
   "cell_type": "code",
   "execution_count": null,
   "metadata": {},
   "outputs": [],
   "source": [
    "from langchain_community.vectorstores import FAISS\n",
    "from langchain_community.embeddings import HuggingFaceBgeEmbeddings\n",
    "\n",
    "# Khởi tạo mô hình embedding giống như khi lưu\n",
    "model_name = \"BAAI/bge-m3\"\n",
    "model_kwargs = {\"device\": \"cuda\"}\n",
    "encode_kwargs = {\"normalize_embeddings\": True}\n",
    "hf_embeddings = HuggingFaceBgeEmbeddings(\n",
    "    model_name=model_name, model_kwargs=model_kwargs, encode_kwargs=encode_kwargs\n",
    ")\n",
    "\n",
    "# Load FAISS index từ thư mục đã lưu\n",
    "vectorstore = FAISS.load_local(\"faiss_index\", hf_embeddings, allow_dangerous_deserialization=True)\n",
    "\n",
    "# Kiểm tra thử bằng cách truy vấn\n",
    "query = \"Hồ Chí Minh là ai?\"\n",
    "retriever = vectorstore.as_retriever()\n",
    "results = retriever.get_relevant_documents(query)\n",
    "\n",
    "# In kết quả\n",
    "for i, doc in enumerate(results):\n",
    "    print(f\"Document {i+1}: {doc.page_content}\")\n"
   ]
  }
 ],
 "metadata": {
  "kernelspec": {
   "display_name": "SDV",
   "language": "python",
   "name": "python3"
  },
  "language_info": {
   "codemirror_mode": {
    "name": "ipython",
    "version": 3
   },
   "file_extension": ".py",
   "mimetype": "text/x-python",
   "name": "python",
   "nbconvert_exporter": "python",
   "pygments_lexer": "ipython3",
   "version": "3.10.16"
  }
 },
 "nbformat": 4,
 "nbformat_minor": 2
}
